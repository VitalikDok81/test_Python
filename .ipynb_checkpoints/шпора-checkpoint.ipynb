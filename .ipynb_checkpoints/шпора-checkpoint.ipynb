{
 "cells": [
  {
   "cell_type": "markdown",
   "metadata": {},
   "source": [
    "## Основные команды:\n",
    "\n",
    "●\tShift + Enter — выполнить код в ячейке и перейти на следующую.\n",
    "●\tCtrl + Enter — выполнить и остаться.\n",
    "●\tТабуляция — автозаполнение длинных названий.\n",
    "●\tEsc + m или просто m — перевести ячейку из кода в комментарии.\n",
    "●\tb — добавить новую ячейку.\n",
    "●\tCtrl + SHift + P (Command + Shift + P) — список горячих клавиш.\n",
    "\n",
    "Комментарии в коде\n",
    "\n",
    "Однострочный комментарий начинается с символа #\n",
    "Многострочные комментарии пишут в тройных кавычках ””” “””"
   ]
  },
  {
   "cell_type": "code",
   "execution_count": null,
   "metadata": {},
   "outputs": [],
   "source": [
    "# блоков elif может быть хоть сколько\n",
    "height = 210\n",
    "if height < 170:\n",
    "    print('В танкисты')\n",
    "elif height < 180:\n",
    "    print('На флот')\n",
    "elif height < 200:\n",
    "    print('В десантники')\n",
    "else:\n",
    "    print('В другие войска')\n",
    "print('Конец программы')"
   ]
  },
  {
   "cell_type": "markdown",
   "metadata": {},
   "source": [
    "## Операции со строками"
   ]
  },
  {
   "cell_type": "markdown",
   "metadata": {},
   "source": [
    "1.\tКонкатенация (объединение) строк возможно при помощи +.\n",
    "2.\tУмножение строки на число позволит повторить её нужное количество раз.\n",
    "3.\t.upper() приводит строку к верхнему регистру.\n",
    "4.\t.lower() приводит строку к нижнему регистру.\n",
    "5.\t.capitalize() приводит первую букву к верхнему регистру.\n",
    "6.\t.replace(‘что заменить’, ‘на что заменить’) заменяет элемент в строке на указанный.\n",
    "7.\tlen(my_string) позволяет определить длину строки (количество символов в ней."
   ]
  },
  {
   "cell_type": "markdown",
   "metadata": {},
   "source": [
    "## Операции с множествами"
   ]
  },
  {
   "cell_type": "markdown",
   "metadata": {},
   "source": [
    "●\t.add(el) добавляет элемент в множество.\n",
    "●\t.update(set) соединяет множество с другим множеством/списком.\n",
    "●\t.discard(el) удаляет элемент из множества по его значению.\n",
    "●\t.union(set) объединяет множества (логическое ИЛИ).\n",
    "●\t.intersection(set) — пересечение множеств (логическое И).\n",
    "●\t.difference(set) возвращает элементы одного множества, которые не принадлежат другому множеству (разность множеств).\n",
    "●\t.symmetric_difference(set) возвращает элементы, которые встречаются в одном множестве, но не встречаются в обоих.\n"
   ]
  },
  {
   "cell_type": "markdown",
   "metadata": {},
   "source": [
    "## Проверка на вхождение элемента в объект"
   ]
  },
  {
   "cell_type": "code",
   "execution_count": null,
   "metadata": {},
   "outputs": [],
   "source": [
    "my_string = 'Hello World'\n",
    "target_string = 'World'\n",
    "\n",
    "if target_string in my_string:\n",
    "    print('find!')"
   ]
  },
  {
   "cell_type": "markdown",
   "metadata": {},
   "source": [
    "# Списки"
   ]
  },
  {
   "cell_type": "markdown",
   "metadata": {},
   "source": [
    "●\tСписки можно складывать.\n",
    "●\tdel(list[index]) удаляет элемент из списка по индексу.\n",
    "●\t.remove(el) удаляет указанный элемент из списка.\n",
    "●\t.append(el) позволяет добавить элемент в список.\n",
    "●\t.count(el) считает количество вхождений элемента в список.\n",
    "●\t.index(el) позволяет узнать индекс элемента в списке.\n",
    "●\t.reverse() разворачивает список.\n",
    "●\tsorted(list) сортирует список.\n",
    "●\tМетод split — преобразование строки в список. Список дополнительно можно разделять. В качестве разделителя может выступать запятая, пробел или другой разделитель.\n",
    "●\tМетод join — преобразование списка в строку. В преобразовании сначала идёт разделитель, к которому применяется метод join. В качестве параметров указывается определённый список. \n"
   ]
  },
  {
   "cell_type": "code",
   "execution_count": 6,
   "metadata": {},
   "outputs": [],
   "source": [
    "month_list = ['Jan', 'Feb', 'Mar', 'Apr', 'May', 'Jun', 'Jul', 'Aug', 'Sep']\n",
    "income_list = [13000, 14000, 14300, 15000, 13800, 13000, 14900, 15200, 15300]\n",
    "income_by_months = [['Jan', 13000], ['Feb', 14000], ['Mar', 14300], ['Apr', 15000], ['May', 13800], ['Jun', 13000], ['Jul', 14900], ['Aug', 15200], ['Sep', 15300]]"
   ]
  },
  {
   "cell_type": "code",
   "execution_count": 7,
   "metadata": {},
   "outputs": [
    {
     "name": "stdout",
     "output_type": "stream",
     "text": [
      "Jan\n",
      "Sep\n",
      "13000\n"
     ]
    }
   ],
   "source": [
    "# индексация элементов в списке\n",
    "print(month_list[0])\n",
    "print(month_list[-1])\n",
    "print(income_by_months[-4][1])"
   ]
  },
  {
   "cell_type": "code",
   "execution_count": 8,
   "metadata": {},
   "outputs": [
    {
     "name": "stdout",
     "output_type": "stream",
     "text": [
      "[['Feb', 14000], ['Mar', 14300]]\n",
      "[['Feb', 14000], ['Mar', 14300]]\n",
      "[['Mar', 14300], ['Apr', 15000], ['May', 13800], ['Jun', 13000], ['Jul', 14900], ['Aug', 15200], ['Sep', 15300]]\n",
      "[['Jan', 13000], ['Feb', 14000], ['Mar', 14300]]\n"
     ]
    }
   ],
   "source": [
    "# срезы\n",
    "print(income_by_months[1:3])  # 0, 1\n",
    "print(income_by_months[-8:-6])\n",
    "print(income_by_months[2:])\n",
    "print(income_by_months[:3])"
   ]
  },
  {
   "cell_type": "code",
   "execution_count": 10,
   "metadata": {},
   "outputs": [
    {
     "data": {
      "text/plain": [
       "14000"
      ]
     },
     "execution_count": 10,
     "metadata": {},
     "output_type": "execute_result"
    }
   ],
   "source": [
    "# можно обращаться к любому уровню вложенности\n",
    "income_by_months = [['Jan', 13000], ['Feb', 14000], ['Mar', 14300], ['Apr', 15000], ['May', 13800], ['Jun', 13000], ['Jul', 14900], ['Aug', 15200], ['Sep', 15300]]\n",
    "income_by_months[1][1]"
   ]
  },
  {
   "cell_type": "code",
   "execution_count": 57,
   "metadata": {},
   "outputs": [
    {
     "name": "stdout",
     "output_type": "stream",
     "text": [
      "[['Jan', 13100], ['Feb', 14000], ['Mar', 14300], ['Apr', 15000], ['May', 13800], ['Jun', 13000], ['Jul', 14900], ['Aug', 15200], ['Sep', 15300]]\n"
     ]
    }
   ],
   "source": [
    "# изменение списков\n",
    "income_by_months[0][1] = 13100\n",
    "print(income_by_months)"
   ]
  },
  {
   "cell_type": "code",
   "execution_count": 62,
   "metadata": {},
   "outputs": [
    {
     "name": "stdout",
     "output_type": "stream",
     "text": [
      "[['Jan', 13200], ['Feb', 13900], ['Mar', 14300], ['Apr', 15000], ['May', 13800], ['Jun', 13000], ['Jul', 14900], ['Aug', 15200], ['Sep', 15300], ['Nov', 15400], ['Dec', 17000]]\n"
     ]
    }
   ],
   "source": [
    "income_by_months_2 = [['Nov', 15400], ['Dec', 17000]]\n",
    "income_by_month = income_by_months + income_by_months_2\n",
    "print(income_by_month)"
   ]
  },
  {
   "cell_type": "markdown",
   "metadata": {},
   "source": [
    "## Распаковка списков"
   ]
  },
  {
   "cell_type": "code",
   "execution_count": 63,
   "metadata": {},
   "outputs": [],
   "source": [
    "data = ['первый', 'второй', 'третий']\n",
    "first = data[0]"
   ]
  },
  {
   "cell_type": "code",
   "execution_count": 64,
   "metadata": {},
   "outputs": [
    {
     "data": {
      "text/plain": [
       "'первый'"
      ]
     },
     "execution_count": 64,
     "metadata": {},
     "output_type": "execute_result"
    }
   ],
   "source": [
    "first, second, third = ['первый', 'второй', 'третий']\n",
    "first"
   ]
  },
  {
   "cell_type": "code",
   "execution_count": 65,
   "metadata": {},
   "outputs": [
    {
     "data": {
      "text/plain": [
       "'первый'"
      ]
     },
     "execution_count": 65,
     "metadata": {},
     "output_type": "execute_result"
    }
   ],
   "source": [
    "# когда число элементов неизвестно\n",
    "first, *_ = ['первый', 'второй', 'третий']\n",
    "first"
   ]
  },
  {
   "cell_type": "code",
   "execution_count": 66,
   "metadata": {},
   "outputs": [
    {
     "data": {
      "text/plain": [
       "['второй', 'третий']"
      ]
     },
     "execution_count": 66,
     "metadata": {},
     "output_type": "execute_result"
    }
   ],
   "source": [
    "_"
   ]
  },
  {
   "cell_type": "code",
   "execution_count": 67,
   "metadata": {},
   "outputs": [],
   "source": [
    "first, *other, last =  ['первый', 'второй', 'третий', 'четвертый']"
   ]
  },
  {
   "cell_type": "code",
   "execution_count": 68,
   "metadata": {},
   "outputs": [
    {
     "data": {
      "text/plain": [
       "['второй', 'третий']"
      ]
     },
     "execution_count": 68,
     "metadata": {},
     "output_type": "execute_result"
    }
   ],
   "source": [
    "other"
   ]
  },
  {
   "cell_type": "code",
   "execution_count": 69,
   "metadata": {},
   "outputs": [
    {
     "data": {
      "text/plain": [
       "'первый'"
      ]
     },
     "execution_count": 69,
     "metadata": {},
     "output_type": "execute_result"
    }
   ],
   "source": [
    "first"
   ]
  },
  {
   "cell_type": "code",
   "execution_count": 70,
   "metadata": {},
   "outputs": [
    {
     "data": {
      "text/plain": [
       "('первый', 'четвертый')"
      ]
     },
     "execution_count": 70,
     "metadata": {},
     "output_type": "execute_result"
    }
   ],
   "source": [
    "first, last"
   ]
  },
  {
   "cell_type": "markdown",
   "metadata": {},
   "source": [
    "## Операции со списками"
   ]
  },
  {
   "cell_type": "code",
   "execution_count": 71,
   "metadata": {},
   "outputs": [
    {
     "data": {
      "text/plain": [
       "[['Jan', 13200],\n",
       " ['Feb', 13900],\n",
       " ['Mar', 14300],\n",
       " ['Apr', 15000],\n",
       " ['May', 13800],\n",
       " ['Jun', 13000],\n",
       " ['Jul', 14900],\n",
       " ['Aug', 15200],\n",
       " ['Sep', 15300]]"
      ]
     },
     "execution_count": 71,
     "metadata": {},
     "output_type": "execute_result"
    }
   ],
   "source": [
    "income_by_months"
   ]
  },
  {
   "cell_type": "code",
   "execution_count": 72,
   "metadata": {},
   "outputs": [
    {
     "data": {
      "text/plain": [
       "[['Jan', 13200],\n",
       " ['Feb', 13900],\n",
       " ['Mar', 14300],\n",
       " ['Apr', 15000],\n",
       " ['May', 13800],\n",
       " ['Jun', 13000],\n",
       " ['Jul', 14900],\n",
       " ['Aug', 15200]]"
      ]
     },
     "execution_count": 72,
     "metadata": {},
     "output_type": "execute_result"
    }
   ],
   "source": [
    "# Удаляем элемент по индексу\n",
    "del(income_by_months[-1])\n",
    "income_by_months"
   ]
  },
  {
   "cell_type": "code",
   "execution_count": 73,
   "metadata": {},
   "outputs": [
    {
     "data": {
      "text/plain": [
       "['Jan', 'Feb', 'Mar', 'Apr', 'May', 'Jun', 'Jul', 'Aug', 'Sep']"
      ]
     },
     "execution_count": 73,
     "metadata": {},
     "output_type": "execute_result"
    }
   ],
   "source": [
    "month_list"
   ]
  },
  {
   "cell_type": "code",
   "execution_count": 74,
   "metadata": {},
   "outputs": [
    {
     "name": "stdout",
     "output_type": "stream",
     "text": [
      "['Jan', 'Feb', 'Mar', 'Apr', 'May', 'Jun', 'Jul', 'Aug']\n"
     ]
    }
   ],
   "source": [
    "# удаляем элемент по значению\n",
    "month_list.remove('Sep')\n",
    "print(month_list)"
   ]
  },
  {
   "cell_type": "code",
   "execution_count": 75,
   "metadata": {},
   "outputs": [
    {
     "data": {
      "text/plain": [
       "[['Jan', 13200],\n",
       " ['Feb', 13900],\n",
       " ['Mar', 14300],\n",
       " ['Apr', 15000],\n",
       " ['May', 13800],\n",
       " ['Jun', 13000],\n",
       " ['Jul', 14900],\n",
       " ['Aug', 15200],\n",
       " ['Dec', 17000]]"
      ]
     },
     "execution_count": 75,
     "metadata": {},
     "output_type": "execute_result"
    }
   ],
   "source": [
    "# добавляем элемент в конец списка\n",
    "income_by_months.append(['Dec', 17000])\n",
    "income_by_months"
   ]
  },
  {
   "cell_type": "code",
   "execution_count": 77,
   "metadata": {},
   "outputs": [
    {
     "data": {
      "text/plain": [
       "[13000, 14000, 1111111, 14300, 15000, 13800, 13000, 14900, 15200, 15300]"
      ]
     },
     "execution_count": 77,
     "metadata": {},
     "output_type": "execute_result"
    }
   ],
   "source": [
    "income_list"
   ]
  },
  {
   "cell_type": "code",
   "execution_count": 76,
   "metadata": {},
   "outputs": [
    {
     "name": "stdout",
     "output_type": "stream",
     "text": [
      "[13000, 14000, 1111111, 14300, 15000, 13800, 13000, 14900, 15200, 15300]\n"
     ]
    }
   ],
   "source": [
    "# добавляем элемент по нужному индексу\n",
    "income_list.insert(2, 1111111)\n",
    "print(income_list)"
   ]
  },
  {
   "cell_type": "code",
   "execution_count": 78,
   "metadata": {},
   "outputs": [
    {
     "data": {
      "text/plain": [
       "2"
      ]
     },
     "execution_count": 78,
     "metadata": {},
     "output_type": "execute_result"
    }
   ],
   "source": [
    "# считаем количество вхождений элемента в список\n",
    "income_list.count(13000)"
   ]
  },
  {
   "cell_type": "code",
   "execution_count": 79,
   "metadata": {},
   "outputs": [
    {
     "data": {
      "text/plain": [
       "[13000, 14000, 1111111, 14300, 15000, 13800, 13000, 14900, 15200, 15300]"
      ]
     },
     "execution_count": 79,
     "metadata": {},
     "output_type": "execute_result"
    }
   ],
   "source": [
    "income_list"
   ]
  },
  {
   "cell_type": "code",
   "execution_count": 82,
   "metadata": {},
   "outputs": [
    {
     "data": {
      "text/plain": [
       "6"
      ]
     },
     "execution_count": 82,
     "metadata": {},
     "output_type": "execute_result"
    }
   ],
   "source": [
    "# узнаем индекс элемента в списка (только первое вхождение!)\n",
    "income_list.index(13000, 1)"
   ]
  },
  {
   "cell_type": "code",
   "execution_count": 83,
   "metadata": {},
   "outputs": [
    {
     "data": {
      "text/plain": [
       "['Aug', 'Jul', 'Jun', 'May', 'Apr', 'Mar', 'Feb', 'Jan']"
      ]
     },
     "execution_count": 83,
     "metadata": {},
     "output_type": "execute_result"
    }
   ],
   "source": [
    "# разворачиваем список\n",
    "month_list.reverse()\n",
    "month_list"
   ]
  },
  {
   "cell_type": "code",
   "execution_count": 84,
   "metadata": {},
   "outputs": [
    {
     "data": {
      "text/plain": [
       "10"
      ]
     },
     "execution_count": 84,
     "metadata": {},
     "output_type": "execute_result"
    }
   ],
   "source": [
    "# узнаем длину списка\n",
    "len(income_list)"
   ]
  },
  {
   "cell_type": "code",
   "execution_count": 85,
   "metadata": {
    "scrolled": true
   },
   "outputs": [
    {
     "data": {
      "text/plain": [
       "1239611"
      ]
     },
     "execution_count": 85,
     "metadata": {},
     "output_type": "execute_result"
    }
   ],
   "source": [
    "# сумма элементов\n",
    "sum(income_list)"
   ]
  },
  {
   "cell_type": "code",
   "execution_count": 87,
   "metadata": {},
   "outputs": [
    {
     "data": {
      "text/plain": [
       "[13000, 14000, 1111111, 14300, 15000, 13800, 13000, 14900, 15200, 15300]"
      ]
     },
     "execution_count": 87,
     "metadata": {},
     "output_type": "execute_result"
    }
   ],
   "source": [
    "income_list"
   ]
  },
  {
   "cell_type": "code",
   "execution_count": 86,
   "metadata": {},
   "outputs": [
    {
     "data": {
      "text/plain": [
       "1111111"
      ]
     },
     "execution_count": 86,
     "metadata": {},
     "output_type": "execute_result"
    }
   ],
   "source": [
    "# максимальный элемент элементов\n",
    "max(income_list)"
   ]
  },
  {
   "cell_type": "code",
   "execution_count": 88,
   "metadata": {},
   "outputs": [
    {
     "data": {
      "text/plain": [
       "13000"
      ]
     },
     "execution_count": 88,
     "metadata": {},
     "output_type": "execute_result"
    }
   ],
   "source": [
    "# минимальный элемент элементов\n",
    "min(income_list)"
   ]
  },
  {
   "cell_type": "code",
   "execution_count": 89,
   "metadata": {},
   "outputs": [
    {
     "data": {
      "text/plain": [
       "[13000, 13000, 13800, 14000, 14300, 14900, 15000, 15200, 15300, 1111111]"
      ]
     },
     "execution_count": 89,
     "metadata": {},
     "output_type": "execute_result"
    }
   ],
   "source": [
    "# сортировка по возрастанию\n",
    "sorted(income_list)"
   ]
  },
  {
   "cell_type": "code",
   "execution_count": 90,
   "metadata": {},
   "outputs": [
    {
     "data": {
      "text/plain": [
       "[13000, 14000, 1111111, 14300, 15000, 13800, 13000, 14900, 15200, 15300]"
      ]
     },
     "execution_count": 90,
     "metadata": {},
     "output_type": "execute_result"
    }
   ],
   "source": [
    "income_list"
   ]
  },
  {
   "cell_type": "code",
   "execution_count": 91,
   "metadata": {},
   "outputs": [
    {
     "data": {
      "text/plain": [
       "[1111111, 15300, 15200, 15000, 14900, 14300, 14000, 13800, 13000, 13000]"
      ]
     },
     "execution_count": 91,
     "metadata": {},
     "output_type": "execute_result"
    }
   ],
   "source": [
    "# изменить порядок сортировки\n",
    "sorted(income_list, reverse= True)"
   ]
  },
  {
   "cell_type": "code",
   "execution_count": 92,
   "metadata": {},
   "outputs": [
    {
     "data": {
      "text/plain": [
       "['Apr', 'Aug', 'Feb', 'Jan', 'Jul', 'Jun', 'Mar', 'May']"
      ]
     },
     "execution_count": 92,
     "metadata": {},
     "output_type": "execute_result"
    }
   ],
   "source": [
    "# а это сортировка строк по алфавиту\n",
    "sorted(month_list)"
   ]
  },
  {
   "cell_type": "markdown",
   "metadata": {},
   "source": [
    "## Изменение списков\n",
    "\n",
    "В примере ниже переменная a и b на самом деле указывают на один и тот же объект. В результате, при добавлении в b очередного элемента этот элемент добавляется и в исходном листе a"
   ]
  },
  {
   "cell_type": "code",
   "execution_count": 93,
   "metadata": {},
   "outputs": [],
   "source": [
    "a = [1, 2, 3]\n",
    "b = a"
   ]
  },
  {
   "cell_type": "code",
   "execution_count": 95,
   "metadata": {},
   "outputs": [
    {
     "data": {
      "text/plain": [
       "'a = [1, 2, 3, 4]'"
      ]
     },
     "execution_count": 95,
     "metadata": {},
     "output_type": "execute_result"
    }
   ],
   "source": [
    "b.append(4)\n",
    "'a = {}'.format(a)"
   ]
  },
  {
   "cell_type": "code",
   "execution_count": 94,
   "metadata": {},
   "outputs": [
    {
     "data": {
      "text/plain": [
       "(4588219016, 4588219016)"
      ]
     },
     "execution_count": 94,
     "metadata": {},
     "output_type": "execute_result"
    }
   ],
   "source": [
    "id(a), id(b)"
   ]
  },
  {
   "cell_type": "markdown",
   "metadata": {},
   "source": [
    "Используем модуль copy"
   ]
  },
  {
   "cell_type": "code",
   "execution_count": 96,
   "metadata": {},
   "outputs": [],
   "source": [
    "import copy"
   ]
  },
  {
   "cell_type": "code",
   "execution_count": 97,
   "metadata": {},
   "outputs": [],
   "source": [
    "a = [1, 2, 3]\n",
    "b = copy.copy(a)"
   ]
  },
  {
   "cell_type": "code",
   "execution_count": 98,
   "metadata": {},
   "outputs": [
    {
     "data": {
      "text/plain": [
       "(4589681416, 4589681288)"
      ]
     },
     "execution_count": 98,
     "metadata": {},
     "output_type": "execute_result"
    }
   ],
   "source": [
    "id(a), id(b)"
   ]
  },
  {
   "cell_type": "code",
   "execution_count": 99,
   "metadata": {},
   "outputs": [
    {
     "name": "stdout",
     "output_type": "stream",
     "text": [
      "a = [1, 2, 3]\n",
      "b = [1, 2, 3, 4]\n"
     ]
    }
   ],
   "source": [
    "b.append(4)\n",
    "print('a = {}'.format(a))\n",
    "\n",
    "print('b = {}'.format(b))"
   ]
  },
  {
   "cell_type": "markdown",
   "metadata": {},
   "source": [
    "## f-строки"
   ]
  },
  {
   "cell_type": "code",
   "execution_count": 43,
   "metadata": {},
   "outputs": [
    {
     "name": "stdout",
     "output_type": "stream",
     "text": [
      "Hello, Oleg, i know python a bit\n",
      "<class 'str'>\n"
     ]
    }
   ],
   "source": [
    "name = 'oleg'\n",
    "lang = 'python'\n",
    "t = f\"Hello, {name.capitalize()}, i know {lang} a bit\"\n",
    "print(t)\n",
    "print(type(t))"
   ]
  },
  {
   "cell_type": "code",
   "execution_count": 46,
   "metadata": {},
   "outputs": [
    {
     "name": "stdout",
     "output_type": "stream",
     "text": [
      "Hello oleg, i know python a bit\n"
     ]
    }
   ],
   "source": [
    "print(f'Hello {name}, i know {lang} a bit')"
   ]
  },
  {
   "cell_type": "markdown",
   "metadata": {},
   "source": [
    "## Списки и строки"
   ]
  },
  {
   "cell_type": "code",
   "execution_count": 134,
   "metadata": {},
   "outputs": [],
   "source": [
    "queries_string = \"смотреть сериалы онлайн,новости спорта,афиша кино,курс доллара,сериалы этим летом,курс по питону,сериалы про спорт\""
   ]
  },
  {
   "cell_type": "code",
   "execution_count": 137,
   "metadata": {
    "scrolled": true
   },
   "outputs": [
    {
     "data": {
      "text/plain": [
       "['смотреть сериалы онлайн',\n",
       " 'новости спорта',\n",
       " 'афиша кино',\n",
       " 'курс доллара',\n",
       " 'сериалы этим летом',\n",
       " 'курс по питону',\n",
       " 'сериалы про спорт']"
      ]
     },
     "execution_count": 137,
     "metadata": {},
     "output_type": "execute_result"
    }
   ],
   "source": [
    "# преобразование строки в список (например, из CSV-файла)\n",
    "queries_list = queries_string.split(',')\n",
    "queries_list"
   ]
  },
  {
   "cell_type": "code",
   "execution_count": 141,
   "metadata": {},
   "outputs": [
    {
     "data": {
      "text/plain": [
       "3"
      ]
     },
     "execution_count": 141,
     "metadata": {},
     "output_type": "execute_result"
    }
   ],
   "source": [
    "len(queries_list[0].split(' '))"
   ]
  },
  {
   "cell_type": "code",
   "execution_count": null,
   "metadata": {},
   "outputs": [],
   "source": [
    "len(queries_list[0].split(' '))"
   ]
  },
  {
   "cell_type": "code",
   "execution_count": 145,
   "metadata": {},
   "outputs": [
    {
     "name": "stdout",
     "output_type": "stream",
     "text": [
      "Столбец 1,Столбец 2,Столбец 3\n"
     ]
    }
   ],
   "source": [
    "# Преобразование списка в строку\n",
    "\n",
    "print(','.join(['Столбец 1', 'Столбец 2', 'Столбец 3']))"
   ]
  },
  {
   "cell_type": "code",
   "execution_count": 147,
   "metadata": {},
   "outputs": [
    {
     "data": {
      "text/plain": [
       "False"
      ]
     },
     "execution_count": 147,
     "metadata": {},
     "output_type": "execute_result"
    }
   ],
   "source": [
    "# проверка вхождения элемента в список:\n",
    "\n",
    "# 'Москва' in ['Ленинград', 'Одесса', 'Севастополь', 'Москва']\n",
    "'Москва' not in ['Ленинград', 'Одесса', 'Севастополь', 'Москва']"
   ]
  },
  {
   "cell_type": "markdown",
   "metadata": {},
   "source": [
    "# Tuple (кортежи)"
   ]
  },
  {
   "cell_type": "code",
   "execution_count": 149,
   "metadata": {},
   "outputs": [
    {
     "data": {
      "text/plain": [
       "tuple"
      ]
     },
     "execution_count": 149,
     "metadata": {},
     "output_type": "execute_result"
    }
   ],
   "source": [
    "salary_tuple = (1000, 1200, 1300, 900, 800)\n",
    "# type(salary_tuple)\n",
    "type(list(salary_tuple))"
   ]
  },
  {
   "cell_type": "code",
   "execution_count": 150,
   "metadata": {},
   "outputs": [
    {
     "data": {
      "text/plain": [
       "[1000, 1200, 1300, 900, 800]"
      ]
     },
     "execution_count": 150,
     "metadata": {},
     "output_type": "execute_result"
    }
   ],
   "source": [
    "list(salary_tuple)"
   ]
  },
  {
   "cell_type": "code",
   "execution_count": 151,
   "metadata": {},
   "outputs": [
    {
     "ename": "TypeError",
     "evalue": "'tuple' object does not support item assignment",
     "output_type": "error",
     "traceback": [
      "\u001b[0;31m---------------------------------------------------------------------------\u001b[0m",
      "\u001b[0;31mTypeError\u001b[0m                                 Traceback (most recent call last)",
      "\u001b[0;32m<ipython-input-151-f9322f03a403>\u001b[0m in \u001b[0;36m<module>\u001b[0;34m\u001b[0m\n\u001b[1;32m      1\u001b[0m \u001b[0;31m# print(salary_tuple[0])\u001b[0m\u001b[0;34m\u001b[0m\u001b[0;34m\u001b[0m\u001b[0m\n\u001b[0;32m----> 2\u001b[0;31m \u001b[0msalary_tuple\u001b[0m\u001b[0;34m[\u001b[0m\u001b[0;36m0\u001b[0m\u001b[0;34m]\u001b[0m \u001b[0;34m=\u001b[0m \u001b[0;36m500\u001b[0m\u001b[0;34m\u001b[0m\u001b[0m\n\u001b[0m",
      "\u001b[0;31mTypeError\u001b[0m: 'tuple' object does not support item assignment"
     ]
    }
   ],
   "source": [
    "# print(salary_tuple[0])\n",
    "salary_tuple[0] = 500"
   ]
  },
  {
   "cell_type": "code",
   "execution_count": 152,
   "metadata": {},
   "outputs": [],
   "source": [
    "# кортеж из одного элемента задается так:\n",
    "t = ('one', )"
   ]
  },
  {
   "cell_type": "code",
   "execution_count": 153,
   "metadata": {},
   "outputs": [
    {
     "data": {
      "text/plain": [
       "tuple"
      ]
     },
     "execution_count": 153,
     "metadata": {},
     "output_type": "execute_result"
    }
   ],
   "source": [
    "type(t)"
   ]
  },
  {
   "cell_type": "code",
   "execution_count": 154,
   "metadata": {},
   "outputs": [
    {
     "data": {
      "text/plain": [
       "str"
      ]
     },
     "execution_count": 154,
     "metadata": {},
     "output_type": "execute_result"
    }
   ],
   "source": [
    "# без запятой получится строка\n",
    "type( ('one') )"
   ]
  },
  {
   "cell_type": "code",
   "execution_count": 155,
   "metadata": {},
   "outputs": [
    {
     "name": "stdout",
     "output_type": "stream",
     "text": [
      "<zip object at 0x1134d3448>\n"
     ]
    }
   ],
   "source": [
    "# функция zip\n",
    "salaries = [1000, 1200, 1300, 900, 800, 1000]\n",
    "names = ['Robert', 'Jane', 'Liza', 'Richard', 'John']\n",
    "\n",
    "salaries_by_names = zip(names, salaries)\n",
    "print(salaries_by_names)"
   ]
  },
  {
   "cell_type": "code",
   "execution_count": 156,
   "metadata": {},
   "outputs": [
    {
     "data": {
      "text/plain": [
       "[('Robert', 1000),\n",
       " ('Jane', 1200),\n",
       " ('Liza', 1300),\n",
       " ('Richard', 900),\n",
       " ('John', 800)]"
      ]
     },
     "execution_count": 156,
     "metadata": {},
     "output_type": "execute_result"
    }
   ],
   "source": [
    "list(salaries_by_names)"
   ]
  },
  {
   "cell_type": "markdown",
   "metadata": {},
   "source": [
    "# Циклы"
   ]
  },
  {
   "cell_type": "markdown",
   "metadata": {},
   "source": [
    "## Цикл while"
   ]
  },
  {
   "cell_type": "code",
   "execution_count": 160,
   "metadata": {},
   "outputs": [
    {
     "name": "stdout",
     "output_type": "stream",
     "text": [
      "4\n",
      "3\n",
      "2\n",
      "1\n",
      "0\n",
      "Я прекратил работу\n"
     ]
    }
   ],
   "source": [
    "x = 5\n",
    "while x != 0:\n",
    "    x -= 1\n",
    "    print(x)\n",
    "    # break\n",
    "    \n",
    "print('Я прекратил работу')"
   ]
  },
  {
   "cell_type": "code",
   "execution_count": 161,
   "metadata": {},
   "outputs": [
    {
     "name": "stdout",
     "output_type": "stream",
     "text": [
      "7 - нечетное число\n",
      "6 - четное число\n",
      "5 - нечетное число\n",
      "4 - четное число\n",
      "3 - нечетное число\n",
      "2 - четное число\n",
      "1 - нечетное число\n"
     ]
    }
   ],
   "source": [
    "x = 7\n",
    "while x != 0:\n",
    "    if x % 2 == 0:\n",
    "        print(x, '- четное число')\n",
    "    else:\n",
    "        print(x, '- нечетное число')\n",
    "    x = x - 1"
   ]
  },
  {
   "cell_type": "markdown",
   "metadata": {},
   "source": [
    "## Цикл for"
   ]
  },
  {
   "cell_type": "code",
   "execution_count": 164,
   "metadata": {},
   "outputs": [
    {
     "name": "stdout",
     "output_type": "stream",
     "text": [
      "O\n",
      "r\n",
      "a\n",
      "n\n",
      "g\n",
      "e\n"
     ]
    }
   ],
   "source": [
    "# итерация по строкам\n",
    "company_name = 'Orange'\n",
    "for letter in company_name:\n",
    "    print(letter)\n",
    "#     letter = letter.capitalize()\n",
    "#     print(letter)\n",
    "# print(letter)"
   ]
  },
  {
   "cell_type": "code",
   "execution_count": 165,
   "metadata": {},
   "outputs": [],
   "source": [
    "# итерация по спискам\n",
    "companies_capitalization = [\n",
    "    ['Orange', 1.3],\n",
    "    ['Maxisoft', 1.5],\n",
    "    ['Headbook', 0.8],\n",
    "    ['Nicola', 2.2]\n",
    "]"
   ]
  },
  {
   "cell_type": "code",
   "execution_count": 168,
   "metadata": {},
   "outputs": [
    {
     "name": "stdout",
     "output_type": "stream",
     "text": [
      "Orange capitalization is 1.3\n",
      "Maxisoft capitalization is 1.5\n",
      "Headbook capitalization is 0.8\n",
      "Nicola capitalization is 2.2\n"
     ]
    }
   ],
   "source": [
    "for company in companies_capitalization:\n",
    "#     print(company)\n",
    "    print(company[0], 'capitalization is', company[1])\n",
    "#     print('end of iteration')"
   ]
  },
  {
   "cell_type": "markdown",
   "metadata": {},
   "source": [
    "## break, pass, continue"
   ]
  },
  {
   "cell_type": "code",
   "execution_count": 1,
   "metadata": {},
   "outputs": [],
   "source": [
    "phrase = '640Кб должно хватить для любых задач. Билл Гейтс (по легенде)'"
   ]
  },
  {
   "cell_type": "code",
   "execution_count": 2,
   "metadata": {},
   "outputs": [
    {
     "name": "stdout",
     "output_type": "stream",
     "text": [
      "6"
     ]
    }
   ],
   "source": [
    "for letter in phrase:\n",
    "    if letter == ' ':\n",
    "        break\n",
    "    print(letter, end='')"
   ]
  },
  {
   "cell_type": "code",
   "execution_count": 3,
   "metadata": {},
   "outputs": [
    {
     "name": "stdout",
     "output_type": "stream",
     "text": [
      "6\n",
      "finish loop\n"
     ]
    }
   ],
   "source": [
    "for letter in phrase:\n",
    "    if letter == ' ':\n",
    "        continue\n",
    "    print(letter)\n",
    "print('finish loop')"
   ]
  },
  {
   "cell_type": "code",
   "execution_count": 4,
   "metadata": {},
   "outputs": [
    {
     "name": "stdout",
     "output_type": "stream",
     "text": [
      "6\n",
      "finish loop\n"
     ]
    }
   ],
   "source": [
    "for letter in phrase:\n",
    "    if letter == ' ':\n",
    "        pass\n",
    "    print(letter)\n",
    "print('finish loop')"
   ]
  },
  {
   "cell_type": "markdown",
   "metadata": {},
   "source": [
    "### Функции range и enumerate\n",
    "Функция enumerate может перебирать списки и к каждому элементу автоматически добавлять номер строки.\n",
    "C указанием левой и правой границы:\n",
    "for i in range(3, 4):\n",
    "C шагом:\n",
    "for i in range(3, 15, 5):"
   ]
  },
  {
   "cell_type": "code",
   "execution_count": 181,
   "metadata": {},
   "outputs": [
    {
     "data": {
      "text/plain": [
       "[(0, 1), (1, 2), (2, 3), (3, 4), (4, 5)]"
      ]
     },
     "execution_count": 181,
     "metadata": {},
     "output_type": "execute_result"
    }
   ],
   "source": [
    "# enumerate позволяет получить индекс каждого элемента\n",
    "# enumerate([1, 2, 3, 4, 5])\n",
    "list(enumerate([1, 2, 3, 4, 5]))"
   ]
  },
  {
   "cell_type": "code",
   "execution_count": 182,
   "metadata": {},
   "outputs": [
    {
     "name": "stdout",
     "output_type": "stream",
     "text": [
      "1 Orange capitalization is 1.3\n",
      "2 Maxisoft capitalization is 1.5\n",
      "3 Headbook capitalization is 0.8\n",
      "4 Nicola capitalization is 2.2\n"
     ]
    }
   ],
   "source": [
    "companies_capitalization = [\n",
    "    ['Orange', 1.3],\n",
    "    ['Maxisoft', 1.5],\n",
    "    ['Headbook', 0.8],\n",
    "    ['Nicola', 2.2]\n",
    "]\n",
    "for i, company in enumerate(companies_capitalization):\n",
    "    print(i+1, company[0], 'capitalization is', company[1])"
   ]
  },
  {
   "cell_type": "code",
   "execution_count": 184,
   "metadata": {},
   "outputs": [
    {
     "name": "stdout",
     "output_type": "stream",
     "text": [
      "['Orange', 1.3]\n",
      "['Maxisoft', 1.5]\n",
      "['Headbook', 0.8]\n",
      "['Nicola', 2.2]\n"
     ]
    }
   ],
   "source": [
    "for i, company in enumerate(companies_capitalization):\n",
    "    print(company)\n",
    "    \n",
    "    if i > 2:\n",
    "        break"
   ]
  },
  {
   "cell_type": "markdown",
   "metadata": {},
   "source": [
    "## List comprehension"
   ]
  },
  {
   "cell_type": "code",
   "execution_count": 195,
   "metadata": {},
   "outputs": [
    {
     "data": {
      "text/plain": [
       "[0, 3, 6, 9, 12, 15, 18, 21, 24, 27, 30, 33, 36, 39]"
      ]
     },
     "execution_count": 195,
     "metadata": {},
     "output_type": "execute_result"
    }
   ],
   "source": [
    "# Дана последовательность чисел. Мы хотим оставить только те, что делятся на 5\n",
    "sequence = range(0, 40, 3)\n",
    "list(sequence)"
   ]
  },
  {
   "cell_type": "code",
   "execution_count": null,
   "metadata": {},
   "outputs": [],
   "source": [
    "# с list comprehension получается покороче\n",
    "[w for w in sequence if w % 5 == 0]"
   ]
  },
  {
   "cell_type": "code",
   "execution_count": 210,
   "metadata": {},
   "outputs": [
    {
     "data": {
      "text/plain": [
       "128.14285714285714"
      ]
     },
     "execution_count": 210,
     "metadata": {},
     "output_type": "execute_result"
    }
   ],
   "source": [
    "sum([x[2] for x in api_response])/len(api_response)"
   ]
  },
  {
   "cell_type": "markdown",
   "metadata": {},
   "source": [
    "## Множества (set)\n",
    "Набор неповторяющихся элементов в случайном порядке"
   ]
  },
  {
   "cell_type": "code",
   "execution_count": 212,
   "metadata": {},
   "outputs": [],
   "source": [
    "data_scientist_skills = set(['Python', 'R', 'SQL', 'Tableau', 'SAS', 'Git'])\n",
    "data_engineer_skills = set(['Python', 'Java', 'Scala', 'Git', 'SQL', 'Hadoop'])"
   ]
  },
  {
   "cell_type": "code",
   "execution_count": 213,
   "metadata": {},
   "outputs": [
    {
     "data": {
      "text/plain": [
       "{1, 2}"
      ]
     },
     "execution_count": 213,
     "metadata": {},
     "output_type": "execute_result"
    }
   ],
   "source": [
    "set([1, 2, 1])"
   ]
  },
  {
   "cell_type": "code",
   "execution_count": 214,
   "metadata": {},
   "outputs": [
    {
     "name": "stdout",
     "output_type": "stream",
     "text": [
      "{'SQL', 'Python', 'SAS', 'Hadoop', 'Java', 'Git', 'Tableau', 'R', 'Scala'}\n",
      "{'SQL', 'Python', 'SAS', 'Hadoop', 'Java', 'Git', 'Tableau', 'R', 'Scala'}\n"
     ]
    }
   ],
   "source": [
    "# логическое ИЛИ – что нужно знать data-scientst, который по совместительству data-engineer\n",
    "print(data_scientist_skills.union(data_engineer_skills))\n",
    "print(data_scientist_skills | data_engineer_skills)"
   ]
  },
  {
   "cell_type": "code",
   "execution_count": 215,
   "metadata": {},
   "outputs": [
    {
     "name": "stdout",
     "output_type": "stream",
     "text": [
      "{'SQL', 'Git', 'Python'}\n",
      "{'SQL', 'Git', 'Python'}\n"
     ]
    }
   ],
   "source": [
    "# логическое И – что нужно знать и data-scientist и data-engineer\n",
    "print(data_scientist_skills.intersection(data_engineer_skills))\n",
    "print(data_scientist_skills & data_engineer_skills)"
   ]
  },
  {
   "cell_type": "code",
   "execution_count": 216,
   "metadata": {},
   "outputs": [
    {
     "name": "stdout",
     "output_type": "stream",
     "text": [
      "{'Java', 'Scala', 'Hadoop'}\n",
      "{'Java', 'Scala', 'Hadoop'}\n"
     ]
    }
   ],
   "source": [
    "# разность множеств – что знает data-scientist, но не знает data-engineer (и наоборот)\n",
    "# print(data_scientist_skills.difference(data_engineer_skills))\n",
    "# print(data_scientist_skills - data_engineer_skills)\n",
    "print(data_engineer_skills.difference(data_scientist_skills))\n",
    "print(data_engineer_skills - data_scientist_skills)"
   ]
  },
  {
   "cell_type": "code",
   "execution_count": 217,
   "metadata": {
    "scrolled": true
   },
   "outputs": [
    {
     "name": "stdout",
     "output_type": "stream",
     "text": [
      "{'Tableau', 'SAS', 'Hadoop', 'Java', 'R', 'Scala'}\n",
      "{'Tableau', 'SAS', 'Hadoop', 'Java', 'R', 'Scala'}\n"
     ]
    }
   ],
   "source": [
    "# симметричная разность множеств – что такого знают data-scientist и data-engineer, чего не знают они оба\n",
    "# print(data_scientist_skills.symmetric_difference(data_engineer_skills))\n",
    "# print(data_scientist_skills ^ data_engineer_skills)\n",
    "print(data_engineer_skills.symmetric_difference(data_scientist_skills))\n",
    "print(data_engineer_skills ^ data_scientist_skills)"
   ]
  },
  {
   "cell_type": "code",
   "execution_count": null,
   "metadata": {},
   "outputs": [],
   "source": [
    "# Из списка можно убрать все повторения просто обратив его в set!"
   ]
  },
  {
   "cell_type": "markdown",
   "metadata": {},
   "source": [
    "# Словари"
   ]
  },
  {
   "cell_type": "code",
   "execution_count": 218,
   "metadata": {},
   "outputs": [],
   "source": [
    "salaries = {\n",
    "    'John': 1200,\n",
    "    'Mary': 500,\n",
    "    'Steven': 1000,\n",
    "    'Liza': 1500\n",
    "}"
   ]
  },
  {
   "cell_type": "code",
   "execution_count": 219,
   "metadata": {},
   "outputs": [
    {
     "data": {
      "text/plain": [
       "1200"
      ]
     },
     "execution_count": 219,
     "metadata": {},
     "output_type": "execute_result"
    }
   ],
   "source": [
    "# обращение к элементу словаря\n",
    "salaries['John']"
   ]
  },
  {
   "cell_type": "code",
   "execution_count": 221,
   "metadata": {},
   "outputs": [
    {
     "data": {
      "text/plain": [
       "{'John': 1200, 'Mary': 500, 'Steven': 1000}"
      ]
     },
     "execution_count": 221,
     "metadata": {},
     "output_type": "execute_result"
    }
   ],
   "source": [
    "# удаляем элемент из словаря\n",
    "del(salaries['Liza'])\n",
    "salaries"
   ]
  },
  {
   "cell_type": "code",
   "execution_count": 222,
   "metadata": {},
   "outputs": [
    {
     "data": {
      "text/plain": [
       "{'John': 1200, 'Mary': 2000, 'Steven': 1000}"
      ]
     },
     "execution_count": 222,
     "metadata": {},
     "output_type": "execute_result"
    }
   ],
   "source": [
    "# добавляем элемент в словарь\n",
    "salaries['Mary'] = 2000\n",
    "salaries"
   ]
  },
  {
   "cell_type": "code",
   "execution_count": 228,
   "metadata": {},
   "outputs": [
    {
     "data": {
      "text/plain": [
       "2000"
      ]
     },
     "execution_count": 228,
     "metadata": {},
     "output_type": "execute_result"
    }
   ],
   "source": [
    "# безопасно получаем значение по ключу\n",
    "# salaries['Oleg']\n",
    "# print(salaries.get('Oleg', 'Not found'))\n",
    "salaries.get('Mary', 'Not Found')"
   ]
  },
  {
   "cell_type": "code",
   "execution_count": 230,
   "metadata": {},
   "outputs": [
    {
     "ename": "KeyError",
     "evalue": "'Andrey'",
     "output_type": "error",
     "traceback": [
      "\u001b[0;31m---------------------------------------------------------------------------\u001b[0m",
      "\u001b[0;31mKeyError\u001b[0m                                  Traceback (most recent call last)",
      "\u001b[0;32m<ipython-input-230-35882ddf7fae>\u001b[0m in \u001b[0;36m<module>\u001b[0;34m\u001b[0m\n\u001b[0;32m----> 1\u001b[0;31m \u001b[0msalaries\u001b[0m\u001b[0;34m[\u001b[0m\u001b[0;34m'Andrey'\u001b[0m\u001b[0;34m]\u001b[0m \u001b[0;34m+=\u001b[0m \u001b[0;36m2000\u001b[0m\u001b[0;34m\u001b[0m\u001b[0m\n\u001b[0m",
      "\u001b[0;31mKeyError\u001b[0m: 'Andrey'"
     ]
    }
   ],
   "source": [
    "salaries['Andrey'] += 2000"
   ]
  },
  {
   "cell_type": "code",
   "execution_count": 232,
   "metadata": {},
   "outputs": [
    {
     "name": "stdout",
     "output_type": "stream",
     "text": [
      "Значение для ключа уже существует\n",
      "{'John': 1200, 'Mary': 4000, 'Steven': 1000, 'Amanda': 2200}\n"
     ]
    }
   ],
   "source": [
    "# проверка на наличие ключа в словаре\n",
    "recruit = 'Amanda'\n",
    "\n",
    "if recruit in salaries:\n",
    "    print('Значение для ключа уже существует')\n",
    "else:\n",
    "    print('Добавляю новый ключ')\n",
    "    salaries[recruit] = 2200\n",
    "\n",
    "print(salaries)"
   ]
  },
  {
   "cell_type": "code",
   "execution_count": 234,
   "metadata": {},
   "outputs": [
    {
     "data": {
      "text/plain": [
       "{'John': 1200, 'Mary': 4000, 'Steven': 1000, 'Amanda': 2200, 'Paul': 3000}"
      ]
     },
     "execution_count": 234,
     "metadata": {},
     "output_type": "execute_result"
    }
   ],
   "source": [
    "# Можно использовать метод setdefault\n",
    "# setdefault не изменяет значение, если ключ уже был в словаре\n",
    "\n",
    "# salaries.setdefault('Mary', 3000)\n",
    "# salaries\n",
    "salaries.setdefault('Paul', 3000)\n",
    "salaries"
   ]
  },
  {
   "cell_type": "code",
   "execution_count": 235,
   "metadata": {},
   "outputs": [],
   "source": [
    "# перейдем к более сложному словарю\n",
    "staff_dict = {\n",
    "    'Robert': {'salary': 800, 'bonus': 200}, \n",
    "    'Jane': {'salary': 200, 'bonus': 300}, \n",
    "    'Liza': {'salary': 1300, 'bonus': 200}, \n",
    "    'Richard': {'salary': 500, 'bonus': 1200}\n",
    "}"
   ]
  },
  {
   "cell_type": "code",
   "execution_count": 238,
   "metadata": {},
   "outputs": [
    {
     "data": {
      "text/plain": [
       "200"
      ]
     },
     "execution_count": 238,
     "metadata": {},
     "output_type": "execute_result"
    }
   ],
   "source": [
    "staff_dict['Robert']['bonus']"
   ]
  },
  {
   "cell_type": "code",
   "execution_count": 239,
   "metadata": {},
   "outputs": [
    {
     "data": {
      "text/plain": [
       "{'Robert': {'salary': 800, 'bonus': 200},\n",
       " 'Jane': {'salary': 200, 'bonus': 300},\n",
       " 'Liza': {'salary': 1300, 'bonus': 200},\n",
       " 'Richard': {'salary': 500, 'bonus': 1200},\n",
       " 'Oleg': {'salary': 1000000, 'bonus': 300}}"
      ]
     },
     "execution_count": 239,
     "metadata": {},
     "output_type": "execute_result"
    }
   ],
   "source": [
    "staff_dict['Oleg'] = {'salary': 1000000, 'bonus': 300}\n",
    "staff_dict"
   ]
  },
  {
   "cell_type": "code",
   "execution_count": 244,
   "metadata": {},
   "outputs": [
    {
     "name": "stdout",
     "output_type": "stream",
     "text": [
      "[('Robert', {'salary': 800, 'bonus': 200}), ('Jane', {'salary': 200, 'bonus': 300}), ('Liza', {'salary': 1300, 'bonus': 200}), ('Richard', {'salary': 500, 'bonus': 1200}), ('Oleg', {'salary': 1000000, 'bonus': 300})]\n"
     ]
    }
   ],
   "source": [
    "# получаем только ключи/значения из словаря (очень пригодиться в циклах)\n",
    "# print(staff_dict.keys())\n",
    "# print(staff_dict.values())\n",
    "# print(staff_dict.items())\n",
    "\n",
    "print(list(staff_dict.keys()))\n",
    "print(list(staff_dict.values()))\n",
    "print(list(staff_dict.items()))"
   ]
  },
  {
   "cell_type": "code",
   "execution_count": 245,
   "metadata": {},
   "outputs": [
    {
     "name": "stdout",
     "output_type": "stream",
     "text": [
      "Robert's salary: 800\n",
      "Jane's salary: 200\n",
      "Richard's salary: 500\n"
     ]
    }
   ],
   "source": [
    "# итерация по словарям\n",
    "# так бы было без цикла\n",
    "print(\"Robert's salary:\", staff_dict['Robert']['salary'])\n",
    "print(\"Jane's salary:\", staff_dict['Jane']['salary'])\n",
    "print(\"Richard's salary:\", staff_dict['Richard']['salary'])"
   ]
  },
  {
   "cell_type": "code",
   "execution_count": 248,
   "metadata": {},
   "outputs": [
    {
     "name": "stdout",
     "output_type": "stream",
     "text": [
      "Robert\n",
      "Jane\n",
      "Liza\n",
      "Richard\n",
      "Oleg\n"
     ]
    }
   ],
   "source": [
    "for person in staff_dict:\n",
    "    print(person)"
   ]
  },
  {
   "cell_type": "code",
   "execution_count": null,
   "metadata": {},
   "outputs": [],
   "source": [
    "for key in staff_dict.keys():\n",
    "    print(key)"
   ]
  },
  {
   "cell_type": "code",
   "execution_count": null,
   "metadata": {},
   "outputs": [],
   "source": [
    "for value in staff_dict.values():\n",
    "    print(value)"
   ]
  },
  {
   "cell_type": "code",
   "execution_count": 250,
   "metadata": {},
   "outputs": [
    {
     "name": "stdout",
     "output_type": "stream",
     "text": [
      "Robert 800\n",
      "Jane 200\n",
      "Liza 1300\n",
      "Richard 500\n",
      "Oleg 1000000\n"
     ]
    }
   ],
   "source": [
    "for key, value in staff_dict.items():\n",
    "    print(key, value['salary'])"
   ]
  },
  {
   "cell_type": "code",
   "execution_count": 251,
   "metadata": {},
   "outputs": [
    {
     "name": "stdout",
     "output_type": "stream",
     "text": [
      "1 Robert\n",
      "2 Jane\n",
      "3 Liza\n",
      "4 Richard\n",
      "5 Oleg\n"
     ]
    }
   ],
   "source": [
    "for i, person in enumerate(staff_dict):\n",
    "    print(i+1, person)"
   ]
  },
  {
   "cell_type": "code",
   "execution_count": 252,
   "metadata": {},
   "outputs": [
    {
     "name": "stdout",
     "output_type": "stream",
     "text": [
      "Robert's salary: 800\n",
      "Jane's salary: 200\n",
      "Liza's salary: 1300\n",
      "Richard's salary: 500\n",
      "Oleg's salary: 1000000\n"
     ]
    }
   ],
   "source": [
    "# используем цикл\n",
    "for person, info in staff_dict.items():\n",
    "#     print(person, info)\n",
    "    print(person, \"'s salary: \", info['salary'], sep='')"
   ]
  },
  {
   "cell_type": "code",
   "execution_count": 253,
   "metadata": {},
   "outputs": [
    {
     "data": {
      "text/plain": [
       "{'Robert': {'salary': 800, 'bonus': 200, 'status': 'below average'},\n",
       " 'Jane': {'salary': 200, 'bonus': 300, 'status': 'below average'},\n",
       " 'Liza': {'salary': 1300, 'bonus': 200, 'status': 'above average'},\n",
       " 'Richard': {'salary': 500, 'bonus': 1200, 'status': 'below average'},\n",
       " 'Oleg': {'salary': 1000000, 'bonus': 300, 'status': 'above average'}}"
      ]
     },
     "execution_count": 253,
     "metadata": {},
     "output_type": "execute_result"
    }
   ],
   "source": [
    "# добавим уровень з/п\n",
    "for person, info in staff_dict.items():\n",
    "#     print(person)\n",
    "    if info['salary'] > 1000:\n",
    "        info['status'] = 'above average'\n",
    "    else:\n",
    "        info['status'] = 'below average'\n",
    "#     print(f\"{person}'s salary: {info['salary']} ({status})\")\n",
    "\n",
    "staff_dict"
   ]
  },
  {
   "cell_type": "code",
   "execution_count": 255,
   "metadata": {},
   "outputs": [
    {
     "data": {
      "text/plain": [
       "{'Еда': 100, 'Авто': 200, 'Политика': 300}"
      ]
     },
     "execution_count": 255,
     "metadata": {},
     "output_type": "execute_result"
    }
   ],
   "source": [
    "# функция zip\n",
    "categories = ['Еда', 'Авто', 'Политика', '346346']\n",
    "audience = [100, 200, 300]\n",
    "\n",
    "dict(zip(categories, audience))\n",
    "\n",
    "# categories_dict = dict(zip(categories, audience))\n",
    "# print(categories_dict)"
   ]
  },
  {
   "cell_type": "markdown",
   "metadata": {},
   "source": [
    "## Dict comprehension\n",
    "Похоже на  list comprehension"
   ]
  },
  {
   "cell_type": "code",
   "execution_count": 256,
   "metadata": {},
   "outputs": [
    {
     "data": {
      "text/plain": [
       "[0, 1, 4, 9, 16, 25, 36, 49, 64, 81]"
      ]
     },
     "execution_count": 256,
     "metadata": {},
     "output_type": "execute_result"
    }
   ],
   "source": [
    "[x**2 for x in range(10)]"
   ]
  },
  {
   "cell_type": "code",
   "execution_count": 257,
   "metadata": {},
   "outputs": [
    {
     "data": {
      "text/plain": [
       "{0: 0, 1: 1, 2: 4, 3: 9, 4: 16, 5: 25, 6: 36, 7: 49, 8: 64, 9: 81}"
      ]
     },
     "execution_count": 257,
     "metadata": {},
     "output_type": "execute_result"
    }
   ],
   "source": [
    "{n: n**2 for n in range(10)}"
   ]
  },
  {
   "cell_type": "code",
   "execution_count": 258,
   "metadata": {},
   "outputs": [],
   "source": [
    "results = [('date', '2018-01-01'), ('counter', '777'), ('visits', 154)]"
   ]
  },
  {
   "cell_type": "code",
   "execution_count": 259,
   "metadata": {
    "scrolled": true
   },
   "outputs": [
    {
     "data": {
      "text/plain": [
       "{'date': '2018-01-01', 'counter': '777', 'visits': 154}"
      ]
     },
     "execution_count": 259,
     "metadata": {},
     "output_type": "execute_result"
    }
   ],
   "source": [
    "{metric: value for (metric, value) in results}"
   ]
  },
  {
   "cell_type": "markdown",
   "metadata": {},
   "source": [
    "# Обработка ошибок\n",
    "1. Текст ошибки указывается в последней строчке\n",
    "2. Все что перед ней - место, где ошибка произошла\n",
    "3. Есть встроенные типы ошибок, но можно создавать и свои"
   ]
  },
  {
   "cell_type": "markdown",
   "metadata": {},
   "source": [
    "Некоторые типы ошибок из документации (точнее [перевода](https://pythonworld.ru/tipy-dannyx-v-python/isklyucheniya-v-python-konstrukciya-try-except-dlya-obrabotki-isklyuchenij.html)):\n",
    "- ZeroDivisionError - деление на ноль\n",
    "- ImportError - не удалось импортирование модуля или его атрибута (надо установить эту библиотеку)\n",
    "- IndexError - индекс не входит в диапазон элементов.\n",
    "- KeyError - несуществующий ключ (в словаре, множестве или другом объекте)\n",
    "- MemoryError - недостаточно памяти\n",
    "- SyntaxError - синтаксическая ошибка (вы опечатались или не закрыли скобку)\n",
    "- TypeError - операция применена к объекту несоответствующего типа\n",
    "- ValueError - функция получает аргумент правильного типа, но некорректного значения\n",
    "- Warning - предупреждение (текст на красном фоне в юпитере это предупреждение, а не ошибка)"
   ]
  },
  {
   "cell_type": "markdown",
   "metadata": {},
   "source": [
    "# Задача про интервалы дат\n",
    "Имеется список отсортированных по возрастанию дат dates_list. А также дата date, которая лежит между минимальным и максимальным значениями из списка dates_list. Вам необходимо определить ближайшие даты в списке dates_list, которые окружают дату date.\n",
    "\n",
    "Пример:\n",
    "```python\n",
    "dates_list = ['2022-01-01', '2022-01-07', '2022-02-23', '2022-03-08', '2022-05-01', '2022-05-09', '2022-06-12']\n",
    "date = '2022-04-01'\n",
    "```"
   ]
  },
  {
   "cell_type": "code",
   "execution_count": 1,
   "metadata": {},
   "outputs": [],
   "source": [
    "dates_list = ['2022-01-01', '2022-01-07', '2022-02-23', '2022-03-08', '2022-05-01', '2022-05-09', '2022-06-12']\n",
    "date = '2022-04-01'"
   ]
  },
  {
   "cell_type": "code",
   "execution_count": 3,
   "metadata": {},
   "outputs": [
    {
     "name": "stdout",
     "output_type": "stream",
     "text": [
      "0 2022-01-01 2022-01-07\n",
      "0 2022-01-07 2022-01-07\n",
      "0 2022-02-23 2022-01-07\n",
      "0 2022-03-08 2022-01-07\n",
      "0 2022-05-01 2022-01-07\n",
      "0 2022-05-09 2022-01-07\n",
      "0 2022-06-12 2022-01-07\n"
     ]
    }
   ],
   "source": [
    "#вариант 1\n",
    "i=0\n",
    "for dt in dates_list:\n",
    "    print(i, dt, dates_list[i+1])"
   ]
  },
  {
   "cell_type": "code",
   "execution_count": 14,
   "metadata": {},
   "outputs": [
    {
     "name": "stdout",
     "output_type": "stream",
     "text": [
      "CPU times: total: 0 ns\n",
      "Wall time: 0 ns\n",
      "3 2022-03-08 2022-05-01\n"
     ]
    }
   ],
   "source": [
    "#вариант2\n",
    "%time\n",
    "for i, dt in enumerate(dates_list[:-1]):\n",
    "    if dt < date < dates_list[i+1]:\n",
    "        print(i, dt, dates_list[i+1])\n",
    "    "
   ]
  },
  {
   "cell_type": "markdown",
   "metadata": {},
   "source": [
    "# Обработка ошибок\n",
    "1. Текст ошибки указывается в последней строчке\n",
    "2. Все что перед ней - место, где ошибка произошла\n",
    "3. Есть встроенные типы ошибок, но можно создавать и свои"
   ]
  },
  {
   "cell_type": "markdown",
   "metadata": {},
   "source": [
    "Некоторые типы ошибок из документации (точнее [перевода](https://pythonworld.ru/tipy-dannyx-v-python/isklyucheniya-v-python-konstrukciya-try-except-dlya-obrabotki-isklyuchenij.html)):\n",
    "- ZeroDivisionError - деление на ноль\n",
    "- ImportError - не удалось импортирование модуля или его атрибута (надо установить эту библиотеку)\n",
    "- IndexError - индекс не входит в диапазон элементов.\n",
    "- KeyError - несуществующий ключ (в словаре, множестве или другом объекте)\n",
    "- MemoryError - недостаточно памяти\n",
    "- SyntaxError - синтаксическая ошибка (вы опечатались или не закрыли скобку)\n",
    "- TypeError - операция применена к объекту несоответствующего типа\n",
    "- ValueError - функция получает аргумент правильного типа, но некорректного значения\n",
    "- Warning - предупреждение (текст на красном фоне в юпитере это предупреждение, а не ошибка)"
   ]
  },
  {
   "cell_type": "code",
   "execution_count": null,
   "metadata": {},
   "outputs": [],
   "source": [
    "# эту строку можно перевести в число\n",
    "some_num = '123'"
   ]
  },
  {
   "cell_type": "code",
   "execution_count": null,
   "metadata": {},
   "outputs": [],
   "source": [
    "float(some_num)"
   ]
  },
  {
   "cell_type": "code",
   "execution_count": null,
   "metadata": {},
   "outputs": [],
   "source": [
    "# а эту уже нет (по крайней мере в десятичном счислении)\n",
    "ups = '123a'"
   ]
  },
  {
   "cell_type": "code",
   "execution_count": null,
   "metadata": {
    "scrolled": true
   },
   "outputs": [],
   "source": [
    "# ValueError - тип ошибки, далее пояснение что произошло\n",
    "# ----> 1 float(ups) - в каком месте кода произошла ошибка\n",
    "float(ups)"
   ]
  },
  {
   "cell_type": "markdown",
   "metadata": {},
   "source": [
    "Пример ошибки внутри функции"
   ]
  },
  {
   "cell_type": "code",
   "execution_count": 15,
   "metadata": {},
   "outputs": [],
   "source": [
    "def square_sum(*args):\n",
    "    total_sum = 0\n",
    "    for arg in args:\n",
    "        total_sum += arg**2\n",
    "    \n",
    "    return total_sum"
   ]
  },
  {
   "cell_type": "code",
   "execution_count": 16,
   "metadata": {},
   "outputs": [
    {
     "data": {
      "text/plain": [
       "14"
      ]
     },
     "execution_count": 16,
     "metadata": {},
     "output_type": "execute_result"
    }
   ],
   "source": [
    "square_sum(1, 2, 3)"
   ]
  },
  {
   "cell_type": "code",
   "execution_count": 17,
   "metadata": {
    "scrolled": true
   },
   "outputs": [
    {
     "ename": "TypeError",
     "evalue": "unsupported operand type(s) for ** or pow(): 'str' and 'int'",
     "output_type": "error",
     "traceback": [
      "\u001b[1;31m---------------------------------------------------------------------------\u001b[0m",
      "\u001b[1;31mTypeError\u001b[0m                                 Traceback (most recent call last)",
      "Cell \u001b[1;32mIn[17], line 5\u001b[0m\n\u001b[0;32m      1\u001b[0m \u001b[38;5;66;03m# пытаемся применить к операцию возведения в квадрат к строке\u001b[39;00m\n\u001b[0;32m      2\u001b[0m \u001b[38;5;66;03m# ----> 1 square_sum(1, 2, '3') - в какой функции произошла ошибка\u001b[39;00m\n\u001b[0;32m      3\u001b[0m \u001b[38;5;66;03m# ----> 4         total_sum += arg**2 - в какой именно строке произошла ошибка\u001b[39;00m\n\u001b[1;32m----> 5\u001b[0m square_sum(\u001b[38;5;241m1\u001b[39m, \u001b[38;5;241m2\u001b[39m, \u001b[38;5;124m'\u001b[39m\u001b[38;5;124m3\u001b[39m\u001b[38;5;124m'\u001b[39m)\n",
      "Cell \u001b[1;32mIn[15], line 4\u001b[0m, in \u001b[0;36msquare_sum\u001b[1;34m(*args)\u001b[0m\n\u001b[0;32m      2\u001b[0m total_sum \u001b[38;5;241m=\u001b[39m \u001b[38;5;241m0\u001b[39m\n\u001b[0;32m      3\u001b[0m \u001b[38;5;28;01mfor\u001b[39;00m arg \u001b[38;5;129;01min\u001b[39;00m args:\n\u001b[1;32m----> 4\u001b[0m     total_sum \u001b[38;5;241m+\u001b[39m\u001b[38;5;241m=\u001b[39m arg\u001b[38;5;241m*\u001b[39m\u001b[38;5;241m*\u001b[39m\u001b[38;5;241m2\u001b[39m\n\u001b[0;32m      6\u001b[0m \u001b[38;5;28;01mreturn\u001b[39;00m total_sum\n",
      "\u001b[1;31mTypeError\u001b[0m: unsupported operand type(s) for ** or pow(): 'str' and 'int'"
     ]
    }
   ],
   "source": [
    "# пытаемся применить к операцию возведения в квадрат к строке\n",
    "# ----> 1 square_sum(1, 2, '3') - в какой функции произошла ошибка\n",
    "# ----> 4         total_sum += arg**2 - в какой именно строке произошла ошибка\n",
    "\n",
    "square_sum(1, 2, '3')"
   ]
  },
  {
   "cell_type": "markdown",
   "metadata": {},
   "source": [
    "## Как сделать, чтобы цикл с расчетом не падал каждый раз"
   ]
  },
  {
   "cell_type": "code",
   "execution_count": null,
   "metadata": {},
   "outputs": [],
   "source": [
    "try:\n",
    "    # ваш код, где может произойти ошибка\n",
    "    float('123a')\n",
    "\n",
    "except:\n",
    "    # код, который выполняется в случае ошибки\n",
    "    "
   ]
  },
  {
   "cell_type": "code",
   "execution_count": null,
   "metadata": {},
   "outputs": [],
   "source": [
    "data = ['90', '60', '90', '240tot']\n",
    "total_sum = 0\n",
    "\n",
    "for num in data:\n",
    "    try:\n",
    "        total_sum += float(num)\n",
    "\n",
    "    except:\n",
    "        print('Ошибка в данных: {}'.format(num))\n",
    "    \n",
    "print('Итого', total_sum)"
   ]
  },
  {
   "cell_type": "markdown",
   "metadata": {},
   "source": [
    "Как сохранить всю информацию об ошибке?"
   ]
  },
  {
   "cell_type": "code",
   "execution_count": 1,
   "metadata": {
    "scrolled": true
   },
   "outputs": [
    {
     "name": "stdout",
     "output_type": "stream",
     "text": [
      "None\n",
      "Проехали\n"
     ]
    },
    {
     "name": "stderr",
     "output_type": "stream",
     "text": [
      "Traceback (most recent call last):\n",
      "  File \"C:\\Users\\Vitaliy\\AppData\\Local\\Temp\\ipykernel_8684\\491658709.py\", line 5, in <module>\n",
      "    float('123fff')\n",
      "ValueError: could not convert string to float: '123fff'\n"
     ]
    }
   ],
   "source": [
    "# полная версия traceback\n",
    "import traceback\n",
    "\n",
    "try:\n",
    "    float('123fff')\n",
    "\n",
    "except Exception:\n",
    "    print(traceback.print_exc())\n",
    "    \n",
    "print('Проехали')"
   ]
  },
  {
   "cell_type": "markdown",
   "metadata": {},
   "source": [
    "### Блок finally"
   ]
  },
  {
   "cell_type": "code",
   "execution_count": null,
   "metadata": {},
   "outputs": [],
   "source": [
    "try:\n",
    "    print(stats[\"wednesday\"])\n",
    "    \n",
    "except IndexError:\n",
    "    print(\"Ошибка индекса\")\n",
    "    \n",
    "except KeyError:\n",
    "    print(\"Ошибка ключа\")\n",
    "    print(1/0)\n",
    "    \n",
    "finally:\n",
    "    print('Эта строчка будет выполнена всегда')"
   ]
  },
  {
   "cell_type": "markdown",
   "metadata": {},
   "source": [
    "### Более жизненный пример"
   ]
  },
  {
   "cell_type": "code",
   "execution_count": 18,
   "metadata": {},
   "outputs": [
    {
     "ename": "FileNotFoundError",
     "evalue": "[Errno 2] No such file or directory: 'real_data.txt'",
     "output_type": "error",
     "traceback": [
      "\u001b[1;31m---------------------------------------------------------------------------\u001b[0m",
      "\u001b[1;31mFileNotFoundError\u001b[0m                         Traceback (most recent call last)",
      "Cell \u001b[1;32mIn[18], line 1\u001b[0m\n\u001b[1;32m----> 1\u001b[0m \u001b[38;5;28;01mwith\u001b[39;00m \u001b[38;5;28mopen\u001b[39m(\u001b[38;5;124m'\u001b[39m\u001b[38;5;124mreal_data.txt\u001b[39m\u001b[38;5;124m'\u001b[39m, \u001b[38;5;124m'\u001b[39m\u001b[38;5;124mr\u001b[39m\u001b[38;5;124m'\u001b[39m) \u001b[38;5;28;01mas\u001b[39;00m f:\n\u001b[0;32m      2\u001b[0m     \u001b[38;5;28;01mfor\u001b[39;00m line \u001b[38;5;129;01min\u001b[39;00m f:\n\u001b[0;32m      3\u001b[0m         \u001b[38;5;28mprint\u001b[39m(line\u001b[38;5;241m.\u001b[39mstrip())\n",
      "File \u001b[1;32m~\\anaconda3\\Lib\\site-packages\\IPython\\core\\interactiveshell.py:286\u001b[0m, in \u001b[0;36m_modified_open\u001b[1;34m(file, *args, **kwargs)\u001b[0m\n\u001b[0;32m    279\u001b[0m \u001b[38;5;28;01mif\u001b[39;00m file \u001b[38;5;129;01min\u001b[39;00m {\u001b[38;5;241m0\u001b[39m, \u001b[38;5;241m1\u001b[39m, \u001b[38;5;241m2\u001b[39m}:\n\u001b[0;32m    280\u001b[0m     \u001b[38;5;28;01mraise\u001b[39;00m \u001b[38;5;167;01mValueError\u001b[39;00m(\n\u001b[0;32m    281\u001b[0m         \u001b[38;5;124mf\u001b[39m\u001b[38;5;124m\"\u001b[39m\u001b[38;5;124mIPython won\u001b[39m\u001b[38;5;124m'\u001b[39m\u001b[38;5;124mt let you open fd=\u001b[39m\u001b[38;5;132;01m{\u001b[39;00mfile\u001b[38;5;132;01m}\u001b[39;00m\u001b[38;5;124m by default \u001b[39m\u001b[38;5;124m\"\u001b[39m\n\u001b[0;32m    282\u001b[0m         \u001b[38;5;124m\"\u001b[39m\u001b[38;5;124mas it is likely to crash IPython. If you know what you are doing, \u001b[39m\u001b[38;5;124m\"\u001b[39m\n\u001b[0;32m    283\u001b[0m         \u001b[38;5;124m\"\u001b[39m\u001b[38;5;124myou can use builtins\u001b[39m\u001b[38;5;124m'\u001b[39m\u001b[38;5;124m open.\u001b[39m\u001b[38;5;124m\"\u001b[39m\n\u001b[0;32m    284\u001b[0m     )\n\u001b[1;32m--> 286\u001b[0m \u001b[38;5;28;01mreturn\u001b[39;00m io_open(file, \u001b[38;5;241m*\u001b[39margs, \u001b[38;5;241m*\u001b[39m\u001b[38;5;241m*\u001b[39mkwargs)\n",
      "\u001b[1;31mFileNotFoundError\u001b[0m: [Errno 2] No such file or directory: 'real_data.txt'"
     ]
    }
   ],
   "source": [
    "with open('real_data.txt', 'r') as f:\n",
    "    for line in f:\n",
    "        print(line.strip())"
   ]
  },
  {
   "cell_type": "markdown",
   "metadata": {},
   "source": [
    "Чем прекрасен этот файл:\n",
    "1. Даты имеют разный формат: за 8 и 9 октября формат с \"09.10.2016 21:40\" сменился на \"09.10.2016T 21:40:00\" (добавилась буква T и секунды). Разработчики объяснили этот тем, что сбились настройки после обновления одной из баз данных.\n",
    "2. У покупок некоторых пользователей неизвестно значение выручки, из-за чего количество столбцов в строке уменьшается на один.\n",
    "3. У некоторых строк реальная сумма покупки умножена на миллион. Так иногда действительно делают, чтобы избежать дробных чисел и работать только с целыми."
   ]
  },
  {
   "cell_type": "markdown",
   "metadata": {},
   "source": [
    "Необходимо посчитать сумму выручки из третьего столбца."
   ]
  },
  {
   "cell_type": "markdown",
   "metadata": {},
   "source": [
    "# Даты"
   ]
  },
  {
   "cell_type": "code",
   "execution_count": 3,
   "metadata": {},
   "outputs": [],
   "source": [
    "# иногда импортируют так\n",
    "import datetime"
   ]
  },
  {
   "cell_type": "code",
   "execution_count": 4,
   "metadata": {},
   "outputs": [],
   "source": [
    "# можно и так\n",
    "import datetime as dt"
   ]
  },
  {
   "cell_type": "code",
   "execution_count": 5,
   "metadata": {},
   "outputs": [],
   "source": [
    "# у нас будет вариант покороче (но это не одно и то же)\n",
    "from datetime import datetime"
   ]
  },
  {
   "cell_type": "code",
   "execution_count": 6,
   "metadata": {},
   "outputs": [],
   "source": [
    "date_string = '09.05.2018  09:00'"
   ]
  },
  {
   "cell_type": "code",
   "execution_count": 7,
   "metadata": {},
   "outputs": [
    {
     "data": {
      "text/plain": [
       "str"
      ]
     },
     "execution_count": 7,
     "metadata": {},
     "output_type": "execute_result"
    }
   ],
   "source": [
    "# сейчас date_string это просто строка\n",
    "type(date_string)"
   ]
  },
  {
   "cell_type": "code",
   "execution_count": 8,
   "metadata": {},
   "outputs": [
    {
     "data": {
      "text/plain": [
       "datetime.datetime(2018, 5, 9, 9, 0)"
      ]
     },
     "execution_count": 8,
     "metadata": {},
     "output_type": "execute_result"
    }
   ],
   "source": [
    "datetime.strptime('09.05.2018 09:00', '%d.%m.%Y %H:%M')"
   ]
  },
  {
   "cell_type": "code",
   "execution_count": 9,
   "metadata": {},
   "outputs": [
    {
     "data": {
      "text/plain": [
       "datetime.datetime(2018, 5, 9, 9, 0)"
      ]
     },
     "execution_count": 9,
     "metadata": {},
     "output_type": "execute_result"
    }
   ],
   "source": [
    "# https://docs.python.org/3/library/datetime.html\n",
    "\n",
    "date_datetime = datetime.strptime( date_string, '%d.%m.%Y %H:%M' )\n",
    "date_datetime"
   ]
  },
  {
   "cell_type": "code",
   "execution_count": null,
   "metadata": {},
   "outputs": [],
   "source": [
    "# теперь можем работать с датами\n",
    "type(date_datetime)"
   ]
  },
  {
   "cell_type": "code",
   "execution_count": null,
   "metadata": {},
   "outputs": [],
   "source": [
    "# получить номер года и часа\n",
    "date_datetime.year, date_datetime.hour"
   ]
  },
  {
   "cell_type": "code",
   "execution_count": null,
   "metadata": {},
   "outputs": [],
   "source": [
    "# день недели\n",
    "date_datetime.weekday()"
   ]
  },
  {
   "cell_type": "code",
   "execution_count": null,
   "metadata": {},
   "outputs": [],
   "source": [
    "# сегодня\n",
    "datetime.now()"
   ]
  },
  {
   "cell_type": "markdown",
   "metadata": {},
   "source": [
    "### Прибавление интервала к датам"
   ]
  },
  {
   "cell_type": "code",
   "execution_count": null,
   "metadata": {},
   "outputs": [],
   "source": [
    "from datetime import timedelta"
   ]
  },
  {
   "cell_type": "code",
   "execution_count": null,
   "metadata": {},
   "outputs": [],
   "source": [
    "start_date = '2018-01-01'\n",
    "end_date = '2018-01-07'"
   ]
  },
  {
   "cell_type": "code",
   "execution_count": null,
   "metadata": {},
   "outputs": [],
   "source": [
    "type(start_date)"
   ]
  },
  {
   "cell_type": "code",
   "execution_count": null,
   "metadata": {},
   "outputs": [],
   "source": [
    "start_date_datetime = datetime.strptime(start_date, '%Y-%m-%d')\n",
    "start_date_datetime"
   ]
  },
  {
   "cell_type": "code",
   "execution_count": null,
   "metadata": {},
   "outputs": [],
   "source": [
    "start_date_datetime + timedelta(days=1)"
   ]
  },
  {
   "cell_type": "code",
   "execution_count": null,
   "metadata": {},
   "outputs": [],
   "source": [
    "start_date_datetime + timedelta(days=-7, minutes=-1)"
   ]
  },
  {
   "cell_type": "markdown",
   "metadata": {},
   "source": [
    "### Перевод обратно в строку"
   ]
  },
  {
   "cell_type": "code",
   "execution_count": null,
   "metadata": {},
   "outputs": [],
   "source": [
    "date = datetime(2018, 9, 1)\n",
    "date"
   ]
  },
  {
   "cell_type": "code",
   "execution_count": null,
   "metadata": {},
   "outputs": [],
   "source": [
    "date.strftime('%Y-%m-%d')"
   ]
  },
  {
   "cell_type": "code",
   "execution_count": null,
   "metadata": {
    "scrolled": false
   },
   "outputs": [],
   "source": [
    "date.strftime('%B %d %Y %I:%M%p')"
   ]
  },
  {
   "cell_type": "code",
   "execution_count": null,
   "metadata": {},
   "outputs": [],
   "source": [
    "datetime.now().strftime('%Y-%m-01')"
   ]
  },
  {
   "cell_type": "code",
   "execution_count": null,
   "metadata": {},
   "outputs": [],
   "source": [
    "# как получить первый день месяца\n",
    "\n",
    "date.strftime('%Y-%m-01')"
   ]
  },
  {
   "cell_type": "code",
   "execution_count": null,
   "metadata": {},
   "outputs": [],
   "source": [
    "start_date = '2018-01-01'\n",
    "end_date = '2018-01-07'"
   ]
  },
  {
   "cell_type": "code",
   "execution_count": null,
   "metadata": {},
   "outputs": [],
   "source": [
    "start_date, end_date"
   ]
  },
  {
   "cell_type": "code",
   "execution_count": null,
   "metadata": {},
   "outputs": [],
   "source": [
    "start_date_dt = datetime.strptime(start_date, '%Y-%m-%d')\n",
    "end_date_dt = datetime.strptime(end_date, '%Y-%m-%d')\n",
    "\n",
    "print(start_date_dt, end_date_dt)"
   ]
  },
  {
   "cell_type": "code",
   "execution_count": null,
   "metadata": {},
   "outputs": [],
   "source": [
    "i = 0\n",
    "\n",
    "while i < 10:\n",
    "    # ...\n",
    "    i += 1\n",
    "    print(i)"
   ]
  },
  {
   "cell_type": "code",
   "execution_count": null,
   "metadata": {
    "scrolled": true
   },
   "outputs": [],
   "source": [
    "current_dt = start_date_dt\n",
    "\n",
    "while current_dt <= end_date_dt:\n",
    "    print(current_dt.strftime('%Y-%m-%d'))\n",
    "    \n",
    "    current_dt += timedelta(days=1)"
   ]
  },
  {
   "cell_type": "code",
   "execution_count": null,
   "metadata": {},
   "outputs": [],
   "source": [
    "current_dt = start_date_dt\n",
    "\n",
    "while current_dt.strftime('%Y-%m-%d') <= end_date:\n",
    "    print(current_dt.strftime('%Y-%m-%d'))\n",
    "    \n",
    "    current_dt += timedelta(days=1)"
   ]
  },
  {
   "cell_type": "code",
   "execution_count": null,
   "metadata": {},
   "outputs": [],
   "source": [
    "# можно и с помощью list comprehension\n",
    "[(start_date_dt + timedelta(days=x)).strftime('%Y-%m-%d') for x in range(10)]"
   ]
  },
  {
   "cell_type": "markdown",
   "metadata": {},
   "source": [
    "### Нагрузка на систему по часам"
   ]
  },
  {
   "cell_type": "code",
   "execution_count": null,
   "metadata": {},
   "outputs": [],
   "source": [
    "stats = {}\n",
    "\n",
    "with open('logs.csv', 'r') as f:\n",
    "    for line in f:\n",
    "        line = line.strip()\n",
    "        print(line)\n",
    "        \n",
    "        break\n",
    "        \n",
    "        # вычисления нагрузки на систему...\n",
    "        \n",
    "# результат\n",
    "stats"
   ]
  },
  {
   "cell_type": "code",
   "execution_count": null,
   "metadata": {},
   "outputs": [],
   "source": [
    "# а в процентном соотношении?\n"
   ]
  },
  {
   "cell_type": "markdown",
   "metadata": {},
   "source": [
    "###  Unixtime\n",
    "Количество секунд, прошедших с 1 января 1970 года по UTC"
   ]
  },
  {
   "cell_type": "code",
   "execution_count": null,
   "metadata": {},
   "outputs": [],
   "source": [
    "import time\n",
    "from datetime import date\n",
    "from datetime import datetime"
   ]
  },
  {
   "cell_type": "code",
   "execution_count": null,
   "metadata": {},
   "outputs": [],
   "source": [
    "d = date(2019, 3, 11)\n",
    "\n",
    "unixtime = time.mktime(d.timetuple())\n",
    "unixtime"
   ]
  },
  {
   "cell_type": "code",
   "execution_count": null,
   "metadata": {},
   "outputs": [],
   "source": [
    "from datetime import datetime"
   ]
  },
  {
   "cell_type": "code",
   "execution_count": null,
   "metadata": {},
   "outputs": [],
   "source": [
    "datetime.fromtimestamp(1552251600)"
   ]
  },
  {
   "cell_type": "markdown",
   "metadata": {},
   "source": [
    "На практике все сложнее https://habr.com/ru/post/452584/"
   ]
  },
  {
   "cell_type": "markdown",
   "metadata": {},
   "source": [
    "# Задача про интервалы дат\n",
    "Имеется список отсортированных по возрастанию дат dates_list. А также дата date, которая лежит между минимальным и максимальным значениями из списка dates_list. Вам необходимо определить ближайшие даты в списке dates_list, которые окружают дату date.\n",
    "\n",
    "Пример:\n",
    "```python\n",
    "dates_list = ['2022-01-01', '2022-01-07', '2022-02-23', '2022-03-08', '2022-05-01', '2022-05-09', '2022-06-12']\n",
    "date = '2022-04-01'\n",
    "```"
   ]
  },
  {
   "cell_type": "code",
   "execution_count": 1,
   "metadata": {},
   "outputs": [],
   "source": [
    "dates_list = ['2022-01-01', '2022-01-07', '2022-02-23', '2022-03-08', '2022-05-01', '2022-05-09', '2022-06-12']\n",
    "date = '2022-04-01'"
   ]
  },
  {
   "cell_type": "code",
   "execution_count": 3,
   "metadata": {},
   "outputs": [
    {
     "name": "stdout",
     "output_type": "stream",
     "text": [
      "0 2022-01-01 2022-01-07\n",
      "0 2022-01-07 2022-01-07\n",
      "0 2022-02-23 2022-01-07\n",
      "0 2022-03-08 2022-01-07\n",
      "0 2022-05-01 2022-01-07\n",
      "0 2022-05-09 2022-01-07\n",
      "0 2022-06-12 2022-01-07\n"
     ]
    }
   ],
   "source": [
    "#вариант 1\n",
    "i=0\n",
    "for dt in dates_list:\n",
    "    print(i, dt, dates_list[i+1])"
   ]
  },
  {
   "cell_type": "code",
   "execution_count": 14,
   "metadata": {},
   "outputs": [
    {
     "name": "stdout",
     "output_type": "stream",
     "text": [
      "CPU times: total: 0 ns\n",
      "Wall time: 0 ns\n",
      "3 2022-03-08 2022-05-01\n"
     ]
    }
   ],
   "source": [
    "#вариант2\n",
    "%time\n",
    "for i, dt in enumerate(dates_list[:-1]):\n",
    "    if dt < date < dates_list[i+1]:\n",
    "        print(i, dt, dates_list[i+1])\n",
    "    "
   ]
  },
  {
   "cell_type": "markdown",
   "metadata": {},
   "source": [
    "# Задача про интервалы дат\n",
    "Имеется список отсортированных по возрастанию дат dates_list. А также дата date, которая лежит между минимальным и максимальным значениями из списка dates_list. Вам необходимо определить ближайшие даты в списке dates_list, которые окружают дату date.\n",
    "\n",
    "Пример:\n",
    "```python\n",
    "dates_list = ['2022-01-01', '2022-01-07', '2022-02-23', '2022-03-08', '2022-05-01', '2022-05-09', '2022-06-12']\n",
    "date = '2022-04-01'\n",
    "```"
   ]
  },
  {
   "cell_type": "code",
   "execution_count": 1,
   "metadata": {},
   "outputs": [],
   "source": [
    "dates_list = ['2022-01-01', '2022-01-07', '2022-02-23', '2022-03-08', '2022-05-01', '2022-05-09', '2022-06-12']\n",
    "date = '2022-04-01'"
   ]
  },
  {
   "cell_type": "code",
   "execution_count": 3,
   "metadata": {
    "scrolled": true
   },
   "outputs": [
    {
     "name": "stdout",
     "output_type": "stream",
     "text": [
      "0 2022-01-01 2022-01-07\n",
      "0 2022-01-07 2022-01-07\n",
      "0 2022-02-23 2022-01-07\n",
      "0 2022-03-08 2022-01-07\n",
      "0 2022-05-01 2022-01-07\n",
      "0 2022-05-09 2022-01-07\n",
      "0 2022-06-12 2022-01-07\n"
     ]
    }
   ],
   "source": [
    "#вариант 1\n",
    "i=0\n",
    "for dt in dates_list:\n",
    "    print(i, dt, dates_list[i+1])"
   ]
  },
  {
   "cell_type": "code",
   "execution_count": 14,
   "metadata": {},
   "outputs": [
    {
     "name": "stdout",
     "output_type": "stream",
     "text": [
      "CPU times: total: 0 ns\n",
      "Wall time: 0 ns\n",
      "3 2022-03-08 2022-05-01\n"
     ]
    }
   ],
   "source": [
    "#вариант2\n",
    "%time\n",
    "for i, dt in enumerate(dates_list[:-1]):\n",
    "    if dt < date < dates_list[i+1]:\n",
    "        print(i, dt, dates_list[i+1])\n",
    "    "
   ]
  },
  {
   "cell_type": "code",
   "execution_count": null,
   "metadata": {},
   "outputs": [],
   "source": []
  }
 ],
 "metadata": {
  "kernelspec": {
   "display_name": "Python 3 (ipykernel)",
   "language": "python",
   "name": "python3"
  },
  "language_info": {
   "codemirror_mode": {
    "name": "ipython",
    "version": 3
   },
   "file_extension": ".py",
   "mimetype": "text/x-python",
   "name": "python",
   "nbconvert_exporter": "python",
   "pygments_lexer": "ipython3",
   "version": "3.11.5"
  }
 },
 "nbformat": 4,
 "nbformat_minor": 2
}
