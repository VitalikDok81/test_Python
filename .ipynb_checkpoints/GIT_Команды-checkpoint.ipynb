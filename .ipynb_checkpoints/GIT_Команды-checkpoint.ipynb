{
 "cells": [
  {
   "cell_type": "markdown",
   "id": "1d2262e1",
   "metadata": {},
   "source": [
    "# привет\n",
    "## другой привет\n",
    " мы учим [Нетология](https://netology.ru/profile/program/bhemft-mdf-23-1/schedule)\n",
    " \n",
    " git init    -создание репозитория в папке\n",
    " git status\n",
    " git add Математика_контрольная2.ipynb  добавление конкретного файла\n",
    " git add -A      - добавление всех файлов\n",
    " git commit -m \"изменил\"\n",
    " git log\n",
    " git log --oneline\n",
    " git log --oneline --all\n",
    " git checkout копируем id коммита   - переход в ведку или киммит\n",
    " git checkout main  - переход в главную ветку/коммит\n",
    " git checkout -b НазваниеВетки - создание ветки и переходв неё \n",
    " git remote -v - проверка наличия связи папки с удалённым репозитарием\n",
    " git remote add origin \"далее адрес с githab\" - установление связи папки с удалённым репозитарием \n",
    " git push -u origin имя ветки  - отправление ветки в репозиторий на github\n",
    " git clone далее адрес с githab    - клонирование с githab  в локальный репозитарий\n",
    " git branch    - показывает статус\n",
    " git branch имя ветки   - создание веток\n",
    " \n"
   ]
  },
  {
   "cell_type": "code",
   "execution_count": 3,
   "id": "c2e7f294",
   "metadata": {},
   "outputs": [
    {
     "name": "stdout",
     "output_type": "stream",
     "text": [
      "3.141592653589793\n"
     ]
    }
   ],
   "source": [
    "import math\n",
    "\n",
    "print(math.pi)"
   ]
  }
 ],
 "metadata": {
  "kernelspec": {
   "display_name": "Python 3 (ipykernel)",
   "language": "python",
   "name": "python3"
  },
  "language_info": {
   "codemirror_mode": {
    "name": "ipython",
    "version": 3
   },
   "file_extension": ".py",
   "mimetype": "text/x-python",
   "name": "python",
   "nbconvert_exporter": "python",
   "pygments_lexer": "ipython3",
   "version": "3.11.5"
  }
 },
 "nbformat": 4,
 "nbformat_minor": 5
}
